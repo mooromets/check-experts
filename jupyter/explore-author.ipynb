{
 "cells": [
  {
   "cell_type": "code",
   "execution_count": null,
   "metadata": {},
   "outputs": [],
   "source": [
    "import pandas as pd\n",
    "import glob\n",
    "from datetime\n",
    "import matplotlib.pyplot as plt\n",
    "\n",
    "out_dir = \"../data\" #output directory\n",
    "# read data from all files\n",
    "result = pd.concat(\n",
    "    [pd.read_csv(file, encoding=\"utf-8\", parse_dates=[1,2,5], dayfirst=True) for file in glob.glob(out_dir + \"/*.csv\")],\n",
    "    ignore_index=True)"
   ]
  },
  {
   "cell_type": "code",
   "execution_count": null,
   "metadata": {},
   "outputs": [],
   "source": [
    "#     'ostapbender', 'nvaluev', 'karpovvyacheslav', 'naguchevroman'\n",
    "##    'chaplygin', 'kozhevnikov', 'netsenko', 'zhukov', 'falcao1984', 'andronov', 'teplofevralya', 'nobel'"
   ]
  }
 ],
 "metadata": {
  "kernelspec": {
   "display_name": "Python 2",
   "language": "python",
   "name": "python2"
  },
  "language_info": {
   "codemirror_mode": {
    "name": "ipython",
    "version": 2
   },
   "file_extension": ".py",
   "mimetype": "text/x-python",
   "name": "python",
   "nbconvert_exporter": "python",
   "pygments_lexer": "ipython2",
   "version": "2.7.15+"
  }
 },
 "nbformat": 4,
 "nbformat_minor": 2
}
