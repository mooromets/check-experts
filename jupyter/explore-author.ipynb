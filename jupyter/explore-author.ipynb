{
 "cells": [
  {
   "cell_type": "code",
   "execution_count": null,
   "metadata": {},
   "outputs": [],
   "source": [
    "import pandas as pd\n",
    "import glob\n",
    "import datetime\n",
    "import matplotlib.pyplot as plt\n",
    "\n",
    "out_dir = \"../data\" #output directory\n",
    "# read data from all files\n",
    "result = pd.concat(\n",
    "    [pd.read_csv(file, encoding=\"utf-8\", parse_dates=[1,2,5], dayfirst=True) for file in glob.glob(out_dir + \"/*.csv\")],\n",
    "    ignore_index=True)"
   ]
  },
  {
   "cell_type": "code",
   "execution_count": null,
   "metadata": {},
   "outputs": [],
   "source": [
    "#     'ostapbender', 'nvaluev', 'karpovvyacheslav', 'naguchevroman'\n",
    "##    'chaplygin', 'kozhevnikov', 'netsenko', 'zhukov', 'falcao1984', 'andronov', 'teplofevralya', 'nobel'"
   ]
  },
  {
   "cell_type": "code",
   "execution_count": null,
   "metadata": {},
   "outputs": [],
   "source": [
    "#group by time ranges\n",
    "per = result.date.dt.to_period('M')\n",
    "#dti =  pd.date_range(start=min(result.date), end=max(result.date), freq='2M')\n",
    "df = result.groupby(by=['author', per, 'status']).agg({'factor':['sum', 'count']})\n",
    "# tune up dataframe\n",
    "df.columns = [\"_\".join(x) for x in df.columns.ravel()]\n",
    "df.reset_index(inplace=True)\n",
    "# make columns with detailed data on W-R-L\n",
    "df = df.pivot_table(index=['author', 'date'], columns='status', values=['factor_sum', 'factor_count'])\n",
    "df.columns = [\"_\".join(x) for x in df.columns.ravel()]\n",
    "df = df.fillna(value=0)\n",
    "# add summary columns\n",
    "#MIN_GAMES_THRES = 0 # too few games per period are not counted\n",
    "#df['count'] = [s if s >= MIN_GAMES_THRES else float('nan') for s in df['factor_count_L'] + df['factor_count_R'] + df['factor_count_W']] \n",
    "df['count'] = df['factor_count_L'] + df['factor_count_R'] + df['factor_count_W']\n",
    "df['return'] = df['factor_sum_W'] + df['factor_count_R']\n",
    "df['win'] = df['factor_sum_W'] - df['factor_count_L'] - df['factor_count_W']\n",
    "df['success_rate'] = df['win'] / df['count'] * 100\n",
    "df.reset_index(inplace=True)\n",
    "#df"
   ]
  },
  {
   "cell_type": "code",
   "execution_count": null,
   "metadata": {},
   "outputs": [],
   "source": [
    "#filter one author\n",
    "df_plot = df[df.author == 'chaplygin'][['date', 'count', 'success_rate']]\n",
    "df_plot.plot()\n",
    "df_plot.describe()"
   ]
  },
  {
   "cell_type": "code",
   "execution_count": null,
   "metadata": {},
   "outputs": [],
   "source": [
    "df_plot_19 = df_plot[df_plot.date >= datetime.date(2019, 1, 1)]\n",
    "df_plot_19.plot()\n",
    "df_plot_19.describe()"
   ]
  }
 ],
 "metadata": {
  "kernelspec": {
   "display_name": "Python 2",
   "language": "python",
   "name": "python2"
  },
  "language_info": {
   "codemirror_mode": {
    "name": "ipython",
    "version": 2
   },
   "file_extension": ".py",
   "mimetype": "text/x-python",
   "name": "python",
   "nbconvert_exporter": "python",
   "pygments_lexer": "ipython2",
   "version": "2.7.15+"
  }
 },
 "nbformat": 4,
 "nbformat_minor": 2
}
