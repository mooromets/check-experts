{
 "cells": [
  {
   "cell_type": "code",
   "execution_count": null,
   "metadata": {},
   "outputs": [],
   "source": [
    "import pandas as pd\n",
    "import math \n",
    "import datetime\n",
    "import matplotlib.pyplot as plt\n",
    "import warnings\n",
    "warnings.filterwarnings('ignore')\n",
    "\n",
    "import sys\n",
    "sys.path.append('../src')\n",
    "import utils_explore as ue\n",
    "\n",
    "data = ue.all_bets()"
   ]
  },
  {
   "cell_type": "code",
   "execution_count": 186,
   "metadata": {},
   "outputs": [],
   "source": [
    "# select interesting authors and the most recent time (~6 month)\n",
    "authors = ['chaplygin', 'falcao1984', 'teplofevralya', 'nvaluev', 'ostapbender']\n",
    "df = data[(data.author.isin(authors)) & (data['placed-date']>=datetime.date(2019, 5, 1))]"
   ]
  },
  {
   "cell_type": "code",
   "execution_count": 187,
   "metadata": {},
   "outputs": [
    {
     "data": {
      "text/html": [
       "<div>\n",
       "<style scoped>\n",
       "    .dataframe tbody tr th:only-of-type {\n",
       "        vertical-align: middle;\n",
       "    }\n",
       "\n",
       "    .dataframe tbody tr th {\n",
       "        vertical-align: top;\n",
       "    }\n",
       "\n",
       "    .dataframe thead th {\n",
       "        text-align: right;\n",
       "    }\n",
       "</style>\n",
       "<table border=\"1\" class=\"dataframe\">\n",
       "  <thead>\n",
       "    <tr style=\"text-align: right;\">\n",
       "      <th></th>\n",
       "      <th>placed-date</th>\n",
       "      <th>count</th>\n",
       "      <th>win</th>\n",
       "      <th>ratio</th>\n",
       "      <th>success_rate</th>\n",
       "    </tr>\n",
       "  </thead>\n",
       "  <tbody>\n",
       "    <tr>\n",
       "      <th>0</th>\n",
       "      <td>2019-04-29/2019-05-05</td>\n",
       "      <td>26.0</td>\n",
       "      <td>17.11</td>\n",
       "      <td>5</td>\n",
       "      <td>65.807692</td>\n",
       "    </tr>\n",
       "    <tr>\n",
       "      <th>1</th>\n",
       "      <td>2019-05-06/2019-05-12</td>\n",
       "      <td>37.0</td>\n",
       "      <td>-3.02</td>\n",
       "      <td>5</td>\n",
       "      <td>-8.162162</td>\n",
       "    </tr>\n",
       "    <tr>\n",
       "      <th>2</th>\n",
       "      <td>2019-05-13/2019-05-19</td>\n",
       "      <td>30.0</td>\n",
       "      <td>0.76</td>\n",
       "      <td>5</td>\n",
       "      <td>2.533333</td>\n",
       "    </tr>\n",
       "    <tr>\n",
       "      <th>3</th>\n",
       "      <td>2019-05-20/2019-05-26</td>\n",
       "      <td>31.0</td>\n",
       "      <td>2.07</td>\n",
       "      <td>5</td>\n",
       "      <td>6.677419</td>\n",
       "    </tr>\n",
       "    <tr>\n",
       "      <th>4</th>\n",
       "      <td>2019-05-27/2019-06-02</td>\n",
       "      <td>39.0</td>\n",
       "      <td>5.53</td>\n",
       "      <td>9</td>\n",
       "      <td>14.179487</td>\n",
       "    </tr>\n",
       "    <tr>\n",
       "      <th>5</th>\n",
       "      <td>2019-06-03/2019-06-09</td>\n",
       "      <td>62.0</td>\n",
       "      <td>20.82</td>\n",
       "      <td>7</td>\n",
       "      <td>33.580645</td>\n",
       "    </tr>\n",
       "    <tr>\n",
       "      <th>6</th>\n",
       "      <td>2019-06-10/2019-06-16</td>\n",
       "      <td>37.0</td>\n",
       "      <td>1.27</td>\n",
       "      <td>7</td>\n",
       "      <td>3.432432</td>\n",
       "    </tr>\n",
       "    <tr>\n",
       "      <th>7</th>\n",
       "      <td>2019-06-17/2019-06-23</td>\n",
       "      <td>41.0</td>\n",
       "      <td>-4.32</td>\n",
       "      <td>5</td>\n",
       "      <td>-10.536585</td>\n",
       "    </tr>\n",
       "    <tr>\n",
       "      <th>8</th>\n",
       "      <td>2019-06-24/2019-06-30</td>\n",
       "      <td>20.0</td>\n",
       "      <td>5.82</td>\n",
       "      <td>4</td>\n",
       "      <td>29.100000</td>\n",
       "    </tr>\n",
       "    <tr>\n",
       "      <th>9</th>\n",
       "      <td>2019-07-01/2019-07-07</td>\n",
       "      <td>33.0</td>\n",
       "      <td>-1.42</td>\n",
       "      <td>7</td>\n",
       "      <td>-4.303030</td>\n",
       "    </tr>\n",
       "    <tr>\n",
       "      <th>10</th>\n",
       "      <td>2019-07-08/2019-07-14</td>\n",
       "      <td>45.0</td>\n",
       "      <td>10.33</td>\n",
       "      <td>5</td>\n",
       "      <td>22.955556</td>\n",
       "    </tr>\n",
       "    <tr>\n",
       "      <th>11</th>\n",
       "      <td>2019-07-15/2019-07-21</td>\n",
       "      <td>32.0</td>\n",
       "      <td>7.37</td>\n",
       "      <td>5</td>\n",
       "      <td>23.031250</td>\n",
       "    </tr>\n",
       "    <tr>\n",
       "      <th>12</th>\n",
       "      <td>2019-07-22/2019-07-28</td>\n",
       "      <td>40.0</td>\n",
       "      <td>-4.29</td>\n",
       "      <td>5</td>\n",
       "      <td>-10.725000</td>\n",
       "    </tr>\n",
       "    <tr>\n",
       "      <th>13</th>\n",
       "      <td>2019-07-29/2019-08-04</td>\n",
       "      <td>29.0</td>\n",
       "      <td>-2.12</td>\n",
       "      <td>5</td>\n",
       "      <td>-7.310345</td>\n",
       "    </tr>\n",
       "    <tr>\n",
       "      <th>14</th>\n",
       "      <td>2019-08-05/2019-08-11</td>\n",
       "      <td>36.0</td>\n",
       "      <td>-5.58</td>\n",
       "      <td>5</td>\n",
       "      <td>-15.500000</td>\n",
       "    </tr>\n",
       "    <tr>\n",
       "      <th>15</th>\n",
       "      <td>2019-08-12/2019-08-18</td>\n",
       "      <td>31.0</td>\n",
       "      <td>11.45</td>\n",
       "      <td>5</td>\n",
       "      <td>36.935484</td>\n",
       "    </tr>\n",
       "    <tr>\n",
       "      <th>16</th>\n",
       "      <td>2019-08-19/2019-08-25</td>\n",
       "      <td>29.0</td>\n",
       "      <td>7.73</td>\n",
       "      <td>7</td>\n",
       "      <td>26.655172</td>\n",
       "    </tr>\n",
       "    <tr>\n",
       "      <th>17</th>\n",
       "      <td>2019-08-26/2019-09-01</td>\n",
       "      <td>39.0</td>\n",
       "      <td>3.98</td>\n",
       "      <td>5</td>\n",
       "      <td>10.205128</td>\n",
       "    </tr>\n",
       "    <tr>\n",
       "      <th>18</th>\n",
       "      <td>2019-09-02/2019-09-08</td>\n",
       "      <td>40.0</td>\n",
       "      <td>-17.67</td>\n",
       "      <td>5</td>\n",
       "      <td>-44.175000</td>\n",
       "    </tr>\n",
       "    <tr>\n",
       "      <th>19</th>\n",
       "      <td>2019-09-09/2019-09-15</td>\n",
       "      <td>22.0</td>\n",
       "      <td>4.36</td>\n",
       "      <td>7</td>\n",
       "      <td>19.818182</td>\n",
       "    </tr>\n",
       "    <tr>\n",
       "      <th>20</th>\n",
       "      <td>2019-09-16/2019-09-22</td>\n",
       "      <td>24.0</td>\n",
       "      <td>14.89</td>\n",
       "      <td>5</td>\n",
       "      <td>62.041667</td>\n",
       "    </tr>\n",
       "    <tr>\n",
       "      <th>21</th>\n",
       "      <td>2019-09-23/2019-09-29</td>\n",
       "      <td>62.0</td>\n",
       "      <td>9.25</td>\n",
       "      <td>7</td>\n",
       "      <td>14.919355</td>\n",
       "    </tr>\n",
       "    <tr>\n",
       "      <th>22</th>\n",
       "      <td>2019-09-30/2019-10-06</td>\n",
       "      <td>25.0</td>\n",
       "      <td>6.40</td>\n",
       "      <td>7</td>\n",
       "      <td>25.600000</td>\n",
       "    </tr>\n",
       "    <tr>\n",
       "      <th>23</th>\n",
       "      <td>2019-10-07/2019-10-13</td>\n",
       "      <td>8.0</td>\n",
       "      <td>8.62</td>\n",
       "      <td>4</td>\n",
       "      <td>107.750000</td>\n",
       "    </tr>\n",
       "    <tr>\n",
       "      <th>24</th>\n",
       "      <td>2019-10-14/2019-10-20</td>\n",
       "      <td>19.0</td>\n",
       "      <td>-3.08</td>\n",
       "      <td>7</td>\n",
       "      <td>-16.210526</td>\n",
       "    </tr>\n",
       "    <tr>\n",
       "      <th>25</th>\n",
       "      <td>2019-10-21/2019-10-27</td>\n",
       "      <td>38.0</td>\n",
       "      <td>2.46</td>\n",
       "      <td>7</td>\n",
       "      <td>6.473684</td>\n",
       "    </tr>\n",
       "    <tr>\n",
       "      <th>26</th>\n",
       "      <td>2019-10-28/2019-11-03</td>\n",
       "      <td>72.0</td>\n",
       "      <td>-3.36</td>\n",
       "      <td>9</td>\n",
       "      <td>-4.666667</td>\n",
       "    </tr>\n",
       "    <tr>\n",
       "      <th>27</th>\n",
       "      <td>2019-11-04/2019-11-10</td>\n",
       "      <td>110.0</td>\n",
       "      <td>12.06</td>\n",
       "      <td>9</td>\n",
       "      <td>10.963636</td>\n",
       "    </tr>\n",
       "    <tr>\n",
       "      <th>28</th>\n",
       "      <td>2019-11-11/2019-11-17</td>\n",
       "      <td>57.0</td>\n",
       "      <td>2.50</td>\n",
       "      <td>9</td>\n",
       "      <td>4.385965</td>\n",
       "    </tr>\n",
       "  </tbody>\n",
       "</table>\n",
       "</div>"
      ],
      "text/plain": [
       "              placed-date  count    win  ratio  success_rate\n",
       "0   2019-04-29/2019-05-05   26.0  17.11      5     65.807692\n",
       "1   2019-05-06/2019-05-12   37.0  -3.02      5     -8.162162\n",
       "2   2019-05-13/2019-05-19   30.0   0.76      5      2.533333\n",
       "3   2019-05-20/2019-05-26   31.0   2.07      5      6.677419\n",
       "4   2019-05-27/2019-06-02   39.0   5.53      9     14.179487\n",
       "5   2019-06-03/2019-06-09   62.0  20.82      7     33.580645\n",
       "6   2019-06-10/2019-06-16   37.0   1.27      7      3.432432\n",
       "7   2019-06-17/2019-06-23   41.0  -4.32      5    -10.536585\n",
       "8   2019-06-24/2019-06-30   20.0   5.82      4     29.100000\n",
       "9   2019-07-01/2019-07-07   33.0  -1.42      7     -4.303030\n",
       "10  2019-07-08/2019-07-14   45.0  10.33      5     22.955556\n",
       "11  2019-07-15/2019-07-21   32.0   7.37      5     23.031250\n",
       "12  2019-07-22/2019-07-28   40.0  -4.29      5    -10.725000\n",
       "13  2019-07-29/2019-08-04   29.0  -2.12      5     -7.310345\n",
       "14  2019-08-05/2019-08-11   36.0  -5.58      5    -15.500000\n",
       "15  2019-08-12/2019-08-18   31.0  11.45      5     36.935484\n",
       "16  2019-08-19/2019-08-25   29.0   7.73      7     26.655172\n",
       "17  2019-08-26/2019-09-01   39.0   3.98      5     10.205128\n",
       "18  2019-09-02/2019-09-08   40.0 -17.67      5    -44.175000\n",
       "19  2019-09-09/2019-09-15   22.0   4.36      7     19.818182\n",
       "20  2019-09-16/2019-09-22   24.0  14.89      5     62.041667\n",
       "21  2019-09-23/2019-09-29   62.0   9.25      7     14.919355\n",
       "22  2019-09-30/2019-10-06   25.0   6.40      7     25.600000\n",
       "23  2019-10-07/2019-10-13    8.0   8.62      4    107.750000\n",
       "24  2019-10-14/2019-10-20   19.0  -3.08      7    -16.210526\n",
       "25  2019-10-21/2019-10-27   38.0   2.46      7      6.473684\n",
       "26  2019-10-28/2019-11-03   72.0  -3.36      9     -4.666667\n",
       "27  2019-11-04/2019-11-10  110.0  12.06      9     10.963636\n",
       "28  2019-11-11/2019-11-17   57.0   2.50      9      4.385965"
      ]
     },
     "execution_count": 187,
     "metadata": {},
     "output_type": "execute_result"
    }
   ],
   "source": [
    "#group data by weeks, then add amount ratio for every author, \n",
    "# then calculate count and success rate with this new amounts\n",
    "df_weekly = ue.calc_win_rate(df, 'W')\n",
    "df_amount = pd.DataFrame({'author' : authors, 'ratio' : [2, 2, 1, 2, 2]}) # authors = ['chaplygin', 'falcao1984', 'teplofevralya']\n",
    "df_weekly = df_weekly.merge(df_amount, on='author', how=\"left\").drop(columns=['author','success_rate','return'])\n",
    "df_weekly['count'] = df_weekly['count'] * df_weekly['ratio']\n",
    "df_weekly['win'] = df_weekly['win'] * df_weekly['ratio']\n",
    "#summarize on weeks\n",
    "df_weekly = df_weekly.groupby(by='placed-date').agg('sum')\n",
    "df_weekly['success_rate'] = df_weekly['win'] / df_weekly['count'] * 100\n",
    "df_weekly.reset_index(inplace=True)\n",
    "df_weekly"
   ]
  },
  {
   "cell_type": "code",
   "execution_count": 188,
   "metadata": {},
   "outputs": [
    {
     "data": {
      "text/html": [
       "<div>\n",
       "<style scoped>\n",
       "    .dataframe tbody tr th:only-of-type {\n",
       "        vertical-align: middle;\n",
       "    }\n",
       "\n",
       "    .dataframe tbody tr th {\n",
       "        vertical-align: top;\n",
       "    }\n",
       "\n",
       "    .dataframe thead th {\n",
       "        text-align: right;\n",
       "    }\n",
       "</style>\n",
       "<table border=\"1\" class=\"dataframe\">\n",
       "  <thead>\n",
       "    <tr style=\"text-align: right;\">\n",
       "      <th></th>\n",
       "      <th>author</th>\n",
       "      <th>ratio</th>\n",
       "      <th>stake</th>\n",
       "    </tr>\n",
       "  </thead>\n",
       "  <tbody>\n",
       "    <tr>\n",
       "      <th>0</th>\n",
       "      <td>chaplygin</td>\n",
       "      <td>2</td>\n",
       "      <td>41.651706</td>\n",
       "    </tr>\n",
       "    <tr>\n",
       "      <th>1</th>\n",
       "      <td>falcao1984</td>\n",
       "      <td>2</td>\n",
       "      <td>41.651706</td>\n",
       "    </tr>\n",
       "    <tr>\n",
       "      <th>2</th>\n",
       "      <td>teplofevralya</td>\n",
       "      <td>1</td>\n",
       "      <td>20.825853</td>\n",
       "    </tr>\n",
       "    <tr>\n",
       "      <th>3</th>\n",
       "      <td>nvaluev</td>\n",
       "      <td>2</td>\n",
       "      <td>41.651706</td>\n",
       "    </tr>\n",
       "    <tr>\n",
       "      <th>4</th>\n",
       "      <td>ostapbender</td>\n",
       "      <td>2</td>\n",
       "      <td>41.651706</td>\n",
       "    </tr>\n",
       "  </tbody>\n",
       "</table>\n",
       "</div>"
      ],
      "text/plain": [
       "          author  ratio      stake\n",
       "0      chaplygin      2  41.651706\n",
       "1     falcao1984      2  41.651706\n",
       "2  teplofevralya      1  20.825853\n",
       "3        nvaluev      2  41.651706\n",
       "4    ostapbender      2  41.651706"
      ]
     },
     "execution_count": 188,
     "metadata": {},
     "output_type": "execute_result"
    }
   ],
   "source": [
    "# size of each stake depends on budget\n",
    "# the budget spreads with respekt to amount ratio\n",
    "budget = 800\n",
    "single_stake = budget / df_weekly['count'].mean()\n",
    "df_amount['stake'] = df_amount['ratio'] * single_stake\n",
    "df_amount"
   ]
  },
  {
   "cell_type": "code",
   "execution_count": 189,
   "metadata": {},
   "outputs": [
    {
     "data": {
      "text/plain": [
       "2289.1777378815086"
      ]
     },
     "execution_count": 189,
     "metadata": {},
     "output_type": "execute_result"
    }
   ],
   "source": [
    "#simple outcome \n",
    "df_weekly['fin-result'] = df_weekly['win'] * single_stake\n",
    "df_weekly['fin-result'].sum()"
   ]
  },
  {
   "cell_type": "code",
   "execution_count": 190,
   "metadata": {},
   "outputs": [
    {
     "data": {
      "text/plain": [
       "1957.2"
      ]
     },
     "execution_count": 190,
     "metadata": {},
     "output_type": "execute_result"
    }
   ],
   "source": [
    "tax = 0.95 #taxes\n",
    "bets_inaccuracy = 0.9 #my odds are often differ (they are smaller) \n",
    "round(df_weekly['fin-result'].sum() * tax * bets_inaccuracy, 1)"
   ]
  },
  {
   "cell_type": "code",
   "execution_count": 191,
   "metadata": {},
   "outputs": [
    {
     "data": {
      "text/plain": [
       "<matplotlib.axes._subplots.AxesSubplot at 0x7f9e20bfc6d0>"
      ]
     },
     "execution_count": 191,
     "metadata": {},
     "output_type": "execute_result"
    },
    {
     "data": {
      "image/png": "[encoded data removed]",
      "text/plain": [
       "<Figure size 432x288 with 1 Axes>"
      ]
     },
     "metadata": {
      "needs_background": "light"
     },
     "output_type": "display_data"
    }
   ],
   "source": [
    "#detailed\n",
    "df_weekly[['placed-date','fin-result']].plot()"
   ]
  },
  {
   "cell_type": "code",
   "execution_count": 192,
   "metadata": {},
   "outputs": [
    {
     "data": {
      "text/plain": [
       "count     29.000000\n",
       "mean      78.937163\n",
       "std      165.317553\n",
       "min     -367.992819\n",
       "25%      -44.150808\n",
       "50%       82.886894\n",
       "75%      179.518851\n",
       "max      433.594255\n",
       "Name: fin-result, dtype: float64"
      ]
     },
     "execution_count": 192,
     "metadata": {},
     "output_type": "execute_result"
    }
   ],
   "source": [
    "df_weekly['fin-result'].describe()"
   ]
  },
  {
   "cell_type": "code",
   "execution_count": 193,
   "metadata": {},
   "outputs": [],
   "source": [
    "#fail analysis... no pattern\n",
    "#df[(df['placed-date'] >= datetime.date(2019,9,2)) & (df['placed-date'] <= datetime.date(2019,9,8))]"
   ]
  },
  {
   "cell_type": "code",
   "execution_count": 195,
   "metadata": {},
   "outputs": [
    {
     "data": {
      "text/html": [
       "<div>\n",
       "<style scoped>\n",
       "    .dataframe tbody tr th:only-of-type {\n",
       "        vertical-align: middle;\n",
       "    }\n",
       "\n",
       "    .dataframe tbody tr th {\n",
       "        vertical-align: top;\n",
       "    }\n",
       "\n",
       "    .dataframe thead th {\n",
       "        text-align: right;\n",
       "    }\n",
       "</style>\n",
       "<table border=\"1\" class=\"dataframe\">\n",
       "  <thead>\n",
       "    <tr style=\"text-align: right;\">\n",
       "      <th></th>\n",
       "      <th>fin-result</th>\n",
       "    </tr>\n",
       "  </thead>\n",
       "  <tbody>\n",
       "    <tr>\n",
       "      <th>0</th>\n",
       "      <td>352.373429</td>\n",
       "    </tr>\n",
       "    <tr>\n",
       "      <th>1</th>\n",
       "      <td>485.242370</td>\n",
       "    </tr>\n",
       "    <tr>\n",
       "      <th>2</th>\n",
       "      <td>460.251346</td>\n",
       "    </tr>\n",
       "    <tr>\n",
       "      <th>3</th>\n",
       "      <td>-11.245961</td>\n",
       "    </tr>\n",
       "    <tr>\n",
       "      <th>4</th>\n",
       "      <td>-33.321364</td>\n",
       "    </tr>\n",
       "    <tr>\n",
       "      <th>5</th>\n",
       "      <td>815.540395</td>\n",
       "    </tr>\n",
       "    <tr>\n",
       "      <th>6</th>\n",
       "      <td>168.272890</td>\n",
       "    </tr>\n",
       "    <tr>\n",
       "      <th>7</th>\n",
       "      <td>52.064632</td>\n",
       "    </tr>\n",
       "  </tbody>\n",
       "</table>\n",
       "</div>"
      ],
      "text/plain": [
       "   fin-result\n",
       "0  352.373429\n",
       "1  485.242370\n",
       "2  460.251346\n",
       "3  -11.245961\n",
       "4  -33.321364\n",
       "5  815.540395\n",
       "6  168.272890\n",
       "7   52.064632"
      ]
     },
     "execution_count": 195,
     "metadata": {},
     "output_type": "execute_result"
    }
   ],
   "source": [
    "#MONTHLY\n",
    "df_4w = df_weekly.groupby(df_weekly.index / 4).agg({'fin-result':'sum'})\n",
    "df_4w"
   ]
  },
  {
   "cell_type": "code",
   "execution_count": 196,
   "metadata": {},
   "outputs": [
    {
     "data": {
      "text/html": [
       "<div>\n",
       "<style scoped>\n",
       "    .dataframe tbody tr th:only-of-type {\n",
       "        vertical-align: middle;\n",
       "    }\n",
       "\n",
       "    .dataframe tbody tr th {\n",
       "        vertical-align: top;\n",
       "    }\n",
       "\n",
       "    .dataframe thead th {\n",
       "        text-align: right;\n",
       "    }\n",
       "</style>\n",
       "<table border=\"1\" class=\"dataframe\">\n",
       "  <thead>\n",
       "    <tr style=\"text-align: right;\">\n",
       "      <th></th>\n",
       "      <th>fin-result</th>\n",
       "    </tr>\n",
       "  </thead>\n",
       "  <tbody>\n",
       "    <tr>\n",
       "      <th>count</th>\n",
       "      <td>8.000000</td>\n",
       "    </tr>\n",
       "    <tr>\n",
       "      <th>mean</th>\n",
       "      <td>286.147217</td>\n",
       "    </tr>\n",
       "    <tr>\n",
       "      <th>std</th>\n",
       "      <td>296.114376</td>\n",
       "    </tr>\n",
       "    <tr>\n",
       "      <th>min</th>\n",
       "      <td>-33.321364</td>\n",
       "    </tr>\n",
       "    <tr>\n",
       "      <th>25%</th>\n",
       "      <td>36.236984</td>\n",
       "    </tr>\n",
       "    <tr>\n",
       "      <th>50%</th>\n",
       "      <td>260.323160</td>\n",
       "    </tr>\n",
       "    <tr>\n",
       "      <th>75%</th>\n",
       "      <td>466.499102</td>\n",
       "    </tr>\n",
       "    <tr>\n",
       "      <th>max</th>\n",
       "      <td>815.540395</td>\n",
       "    </tr>\n",
       "  </tbody>\n",
       "</table>\n",
       "</div>"
      ],
      "text/plain": [
       "       fin-result\n",
       "count    8.000000\n",
       "mean   286.147217\n",
       "std    296.114376\n",
       "min    -33.321364\n",
       "25%     36.236984\n",
       "50%    260.323160\n",
       "75%    466.499102\n",
       "max    815.540395"
      ]
     },
     "execution_count": 196,
     "metadata": {},
     "output_type": "execute_result"
    }
   ],
   "source": [
    "df_4w.describe()"
   ]
  },
  {
   "cell_type": "code",
   "execution_count": 197,
   "metadata": {},
   "outputs": [
    {
     "data": {
      "text/plain": [
       "<matplotlib.axes._subplots.AxesSubplot at 0x7f9e20b6f090>"
      ]
     },
     "execution_count": 197,
     "metadata": {},
     "output_type": "execute_result"
    },
    {
     "data": {
      "image/png": "[encoded data removed]",
      "text/plain": [
       "<Figure size 432x288 with 1 Axes>"
      ]
     },
     "metadata": {
      "needs_background": "light"
     },
     "output_type": "display_data"
    }
   ],
   "source": [
    "df_4w.plot()"
   ]
  },
  {
   "cell_type": "code",
   "execution_count": null,
   "metadata": {},
   "outputs": [],
   "source": []
  }
 ],
 "metadata": {
  "kernelspec": {
   "display_name": "Python 2",
   "language": "python",
   "name": "python2"
  },
  "language_info": {
   "codemirror_mode": {
    "name": "ipython",
    "version": 2
   },
   "file_extension": ".py",
   "mimetype": "text/x-python",
   "name": "python",
   "nbconvert_exporter": "python",
   "pygments_lexer": "ipython2",
   "version": "2.7.15+"
  }
 },
 "nbformat": 4,
 "nbformat_minor": 2
}
