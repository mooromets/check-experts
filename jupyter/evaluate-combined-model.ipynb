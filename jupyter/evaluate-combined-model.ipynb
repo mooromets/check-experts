{
 "cells": [
  {
   "cell_type": "code",
   "execution_count": 14,
   "metadata": {},
   "outputs": [],
   "source": [
    "import pandas as pd\n",
    "import math \n",
    "import datetime\n",
    "import matplotlib.pyplot as plt\n",
    "import warnings\n",
    "warnings.filterwarnings('ignore')\n",
    "\n",
    "import sys\n",
    "sys.path.append('../src')\n",
    "import utils_explore as ue\n",
    "\n",
    "data = ue.all_bets()"
   ]
  },
  {
   "cell_type": "code",
   "execution_count": 15,
   "metadata": {},
   "outputs": [],
   "source": [
    "# select interesting authors and the most recent time (~6 month)\n",
    "authors = ['chaplygin', 'falcao1984', 'teplofevralya', 'nvaluev', 'ostapbender', 'karpovvyacheslav', 'netsenko', 'zhukov']\n",
    "ratio = [1, 1, 1, 1, 1, 1, 1, 1]\n",
    "df = data[(data.author.isin(authors)) & (data['placed-date']>=datetime.date(2019, 5, 1))]"
   ]
  },
  {
   "cell_type": "code",
   "execution_count": 16,
   "metadata": {},
   "outputs": [],
   "source": [
    "#group data by weeks, then add amount ratio for every author, \n",
    "# then calculate count and success rate with this new amounts\n",
    "df_weekly = ue.calc_win_rate(df, 'W')\n",
    "df_amount = pd.DataFrame({'author' : authors, 'ratio' : ratio}) # authors = ['chaplygin', 'falcao1984', 'teplofevralya']\n",
    "df_weekly = df_weekly.merge(df_amount, on='author', how=\"left\").drop(columns=['author','success_rate','return'])\n",
    "df_weekly['count'] = df_weekly['count'] * df_weekly['ratio']\n",
    "df_weekly['win'] = df_weekly['win'] * df_weekly['ratio']\n",
    "#summarize on weeks\n",
    "df_weekly = df_weekly.groupby(by='placed-date').agg('sum')\n",
    "df_weekly['success_rate'] = df_weekly['win'] / df_weekly['count'] * 100\n",
    "df_weekly.reset_index(inplace=True)\n",
    "#df_weekly"
   ]
  },
  {
   "cell_type": "code",
   "execution_count": 17,
   "metadata": {},
   "outputs": [
    {
     "data": {
      "text/html": [
       "<div>\n",
       "<style scoped>\n",
       "    .dataframe tbody tr th:only-of-type {\n",
       "        vertical-align: middle;\n",
       "    }\n",
       "\n",
       "    .dataframe tbody tr th {\n",
       "        vertical-align: top;\n",
       "    }\n",
       "\n",
       "    .dataframe thead th {\n",
       "        text-align: right;\n",
       "    }\n",
       "</style>\n",
       "<table border=\"1\" class=\"dataframe\">\n",
       "  <thead>\n",
       "    <tr style=\"text-align: right;\">\n",
       "      <th></th>\n",
       "      <th>author</th>\n",
       "      <th>ratio</th>\n",
       "      <th>stake</th>\n",
       "    </tr>\n",
       "  </thead>\n",
       "  <tbody>\n",
       "    <tr>\n",
       "      <th>0</th>\n",
       "      <td>chaplygin</td>\n",
       "      <td>1</td>\n",
       "      <td>28.054299</td>\n",
       "    </tr>\n",
       "    <tr>\n",
       "      <th>1</th>\n",
       "      <td>falcao1984</td>\n",
       "      <td>1</td>\n",
       "      <td>28.054299</td>\n",
       "    </tr>\n",
       "    <tr>\n",
       "      <th>2</th>\n",
       "      <td>teplofevralya</td>\n",
       "      <td>1</td>\n",
       "      <td>28.054299</td>\n",
       "    </tr>\n",
       "    <tr>\n",
       "      <th>3</th>\n",
       "      <td>nvaluev</td>\n",
       "      <td>1</td>\n",
       "      <td>28.054299</td>\n",
       "    </tr>\n",
       "    <tr>\n",
       "      <th>4</th>\n",
       "      <td>ostapbender</td>\n",
       "      <td>1</td>\n",
       "      <td>28.054299</td>\n",
       "    </tr>\n",
       "    <tr>\n",
       "      <th>5</th>\n",
       "      <td>karpovvyacheslav</td>\n",
       "      <td>1</td>\n",
       "      <td>28.054299</td>\n",
       "    </tr>\n",
       "    <tr>\n",
       "      <th>6</th>\n",
       "      <td>netsenko</td>\n",
       "      <td>1</td>\n",
       "      <td>28.054299</td>\n",
       "    </tr>\n",
       "    <tr>\n",
       "      <th>7</th>\n",
       "      <td>zhukov</td>\n",
       "      <td>1</td>\n",
       "      <td>28.054299</td>\n",
       "    </tr>\n",
       "  </tbody>\n",
       "</table>\n",
       "</div>"
      ],
      "text/plain": [
       "             author  ratio      stake\n",
       "0         chaplygin      1  28.054299\n",
       "1        falcao1984      1  28.054299\n",
       "2     teplofevralya      1  28.054299\n",
       "3           nvaluev      1  28.054299\n",
       "4       ostapbender      1  28.054299\n",
       "5  karpovvyacheslav      1  28.054299\n",
       "6          netsenko      1  28.054299\n",
       "7            zhukov      1  28.054299"
      ]
     },
     "execution_count": 17,
     "metadata": {},
     "output_type": "execute_result"
    }
   ],
   "source": [
    "# size of each stake depends on budget\n",
    "# the budget spreads with respekt to amount ratio\n",
    "budget = 800\n",
    "single_stake = budget / df_weekly['count'].mean()\n",
    "df_amount['stake'] = df_amount['ratio'] * single_stake\n",
    "df_amount"
   ]
  },
  {
   "cell_type": "code",
   "execution_count": 18,
   "metadata": {},
   "outputs": [
    {
     "data": {
      "text/plain": [
       "2859.0135746606334"
      ]
     },
     "execution_count": 18,
     "metadata": {},
     "output_type": "execute_result"
    }
   ],
   "source": [
    "#simple outcome \n",
    "df_weekly['fin-result'] = df_weekly['win'] * single_stake\n",
    "df_weekly['fin-result'].sum()"
   ]
  },
  {
   "cell_type": "code",
   "execution_count": 19,
   "metadata": {},
   "outputs": [
    {
     "data": {
      "text/plain": [
       "2444.5"
      ]
     },
     "execution_count": 19,
     "metadata": {},
     "output_type": "execute_result"
    }
   ],
   "source": [
    "tax = 0.95 #taxes\n",
    "bets_inaccuracy = 0.9 #my odds are often differ (they are smaller) \n",
    "round(df_weekly['fin-result'].sum() * tax * bets_inaccuracy, 1)"
   ]
  },
  {
   "cell_type": "code",
   "execution_count": 20,
   "metadata": {},
   "outputs": [
    {
     "data": {
      "text/plain": [
       "<matplotlib.axes._subplots.AxesSubplot at 0x7fb3ebfeb4d0>"
      ]
     },
     "execution_count": 20,
     "metadata": {},
     "output_type": "execute_result"
    },
    {
     "data": {
      "image/png": "[encoded data removed]",
      "text/plain": [
       "<Figure size 432x288 with 1 Axes>"
      ]
     },
     "metadata": {
      "needs_background": "light"
     },
     "output_type": "display_data"
    }
   ],
   "source": [
    "#detailed\n",
    "df_weekly[['placed-date','fin-result']].plot()"
   ]
  },
  {
   "cell_type": "code",
   "execution_count": 21,
   "metadata": {},
   "outputs": [
    {
     "data": {
      "text/plain": [
       "count     31.000000\n",
       "mean      92.226244\n",
       "std      171.998416\n",
       "min     -235.936652\n",
       "25%      -26.230769\n",
       "50%       49.656109\n",
       "75%      193.995475\n",
       "max      405.665158\n",
       "Name: fin-result, dtype: float64"
      ]
     },
     "execution_count": 21,
     "metadata": {},
     "output_type": "execute_result"
    }
   ],
   "source": [
    "df_weekly['fin-result'].describe()"
   ]
  },
  {
   "cell_type": "code",
   "execution_count": 22,
   "metadata": {},
   "outputs": [],
   "source": [
    "#fail analysis... no pattern\n",
    "#df[(df['placed-date'] >= datetime.date(2019,9,2)) & (df['placed-date'] <= datetime.date(2019,9,8))]"
   ]
  },
  {
   "cell_type": "code",
   "execution_count": 23,
   "metadata": {},
   "outputs": [
    {
     "data": {
      "text/html": [
       "<div>\n",
       "<style scoped>\n",
       "    .dataframe tbody tr th:only-of-type {\n",
       "        vertical-align: middle;\n",
       "    }\n",
       "\n",
       "    .dataframe tbody tr th {\n",
       "        vertical-align: top;\n",
       "    }\n",
       "\n",
       "    .dataframe thead th {\n",
       "        text-align: right;\n",
       "    }\n",
       "</style>\n",
       "<table border=\"1\" class=\"dataframe\">\n",
       "  <thead>\n",
       "    <tr style=\"text-align: right;\">\n",
       "      <th></th>\n",
       "      <th>fin-result</th>\n",
       "    </tr>\n",
       "  </thead>\n",
       "  <tbody>\n",
       "    <tr>\n",
       "      <th>0</th>\n",
       "      <td>315.610860</td>\n",
       "    </tr>\n",
       "    <tr>\n",
       "      <th>1</th>\n",
       "      <td>267.918552</td>\n",
       "    </tr>\n",
       "    <tr>\n",
       "      <th>2</th>\n",
       "      <td>340.018100</td>\n",
       "    </tr>\n",
       "    <tr>\n",
       "      <th>3</th>\n",
       "      <td>81.076923</td>\n",
       "    </tr>\n",
       "    <tr>\n",
       "      <th>4</th>\n",
       "      <td>203.674208</td>\n",
       "    </tr>\n",
       "    <tr>\n",
       "      <th>5</th>\n",
       "      <td>693.502262</td>\n",
       "    </tr>\n",
       "    <tr>\n",
       "      <th>6</th>\n",
       "      <td>360.778281</td>\n",
       "    </tr>\n",
       "    <tr>\n",
       "      <th>7</th>\n",
       "      <td>596.434389</td>\n",
       "    </tr>\n",
       "  </tbody>\n",
       "</table>\n",
       "</div>"
      ],
      "text/plain": [
       "   fin-result\n",
       "0  315.610860\n",
       "1  267.918552\n",
       "2  340.018100\n",
       "3   81.076923\n",
       "4  203.674208\n",
       "5  693.502262\n",
       "6  360.778281\n",
       "7  596.434389"
      ]
     },
     "execution_count": 23,
     "metadata": {},
     "output_type": "execute_result"
    }
   ],
   "source": [
    "#MONTHLY\n",
    "df_4w = df_weekly.groupby(df_weekly.index / 4).agg({'fin-result':'sum'})\n",
    "df_4w"
   ]
  },
  {
   "cell_type": "code",
   "execution_count": 24,
   "metadata": {},
   "outputs": [
    {
     "data": {
      "text/html": [
       "<div>\n",
       "<style scoped>\n",
       "    .dataframe tbody tr th:only-of-type {\n",
       "        vertical-align: middle;\n",
       "    }\n",
       "\n",
       "    .dataframe tbody tr th {\n",
       "        vertical-align: top;\n",
       "    }\n",
       "\n",
       "    .dataframe thead th {\n",
       "        text-align: right;\n",
       "    }\n",
       "</style>\n",
       "<table border=\"1\" class=\"dataframe\">\n",
       "  <thead>\n",
       "    <tr style=\"text-align: right;\">\n",
       "      <th></th>\n",
       "      <th>fin-result</th>\n",
       "    </tr>\n",
       "  </thead>\n",
       "  <tbody>\n",
       "    <tr>\n",
       "      <th>count</th>\n",
       "      <td>8.000000</td>\n",
       "    </tr>\n",
       "    <tr>\n",
       "      <th>mean</th>\n",
       "      <td>357.376697</td>\n",
       "    </tr>\n",
       "    <tr>\n",
       "      <th>std</th>\n",
       "      <td>200.055361</td>\n",
       "    </tr>\n",
       "    <tr>\n",
       "      <th>min</th>\n",
       "      <td>81.076923</td>\n",
       "    </tr>\n",
       "    <tr>\n",
       "      <th>25%</th>\n",
       "      <td>251.857466</td>\n",
       "    </tr>\n",
       "    <tr>\n",
       "      <th>50%</th>\n",
       "      <td>327.814480</td>\n",
       "    </tr>\n",
       "    <tr>\n",
       "      <th>75%</th>\n",
       "      <td>419.692308</td>\n",
       "    </tr>\n",
       "    <tr>\n",
       "      <th>max</th>\n",
       "      <td>693.502262</td>\n",
       "    </tr>\n",
       "  </tbody>\n",
       "</table>\n",
       "</div>"
      ],
      "text/plain": [
       "       fin-result\n",
       "count    8.000000\n",
       "mean   357.376697\n",
       "std    200.055361\n",
       "min     81.076923\n",
       "25%    251.857466\n",
       "50%    327.814480\n",
       "75%    419.692308\n",
       "max    693.502262"
      ]
     },
     "execution_count": 24,
     "metadata": {},
     "output_type": "execute_result"
    }
   ],
   "source": [
    "df_4w.describe()"
   ]
  },
  {
   "cell_type": "code",
   "execution_count": 25,
   "metadata": {},
   "outputs": [
    {
     "data": {
      "text/plain": [
       "<matplotlib.axes._subplots.AxesSubplot at 0x7fb41cce2910>"
      ]
     },
     "execution_count": 25,
     "metadata": {},
     "output_type": "execute_result"
    },
    {
     "data": {
      "image/png": "[encoded data removed]",
      "text/plain": [
       "<Figure size 432x288 with 1 Axes>"
      ]
     },
     "metadata": {
      "needs_background": "light"
     },
     "output_type": "display_data"
    }
   ],
   "source": [
    "df_4w.plot()"
   ]
  },
  {
   "cell_type": "code",
   "execution_count": null,
   "metadata": {},
   "outputs": [],
   "source": []
  }
 ],
 "metadata": {
  "kernelspec": {
   "display_name": "Python 2",
   "language": "python",
   "name": "python2"
  },
  "language_info": {
   "codemirror_mode": {
    "name": "ipython",
    "version": 2
   },
   "file_extension": ".py",
   "mimetype": "text/x-python",
   "name": "python",
   "nbconvert_exporter": "python",
   "pygments_lexer": "ipython2",
   "version": "2.7.15+"
  }
 },
 "nbformat": 4,
 "nbformat_minor": 2
}
