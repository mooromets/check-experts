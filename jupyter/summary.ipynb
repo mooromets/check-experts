{
 "cells": [
  {
   "cell_type": "code",
   "execution_count": null,
   "metadata": {},
   "outputs": [],
   "source": [
    "import pandas as pd\n",
    "import glob\n",
    "out_dir = \"../data\" #output directory\n",
    "# read data from all files\n",
    "result = pd.concat(\n",
    "    [pd.read_csv(file, encoding=\"utf-8\", parse_dates=[1,2,5], dayfirst=True) for file in glob.glob(out_dir + \"/*.csv\")],\n",
    "    ignore_index=True)\n",
    "# count number of bets und sum\n",
    "df = result.groupby(by = ['author', 'status'], as_index=False).agg({'factor':['sum', 'count']})\n",
    "df.columns = [\"_\".join(x) for x in df.columns.ravel()]\n",
    "# make columns with detaild data on W-R-L\n",
    "df = df.pivot(index='author_', columns='status_', values=['factor_sum', 'factor_count'])\n",
    "df.columns = [\"_\".join(x) for x in df.columns.ravel()]\n",
    "# add summary columns\n",
    "df['count'] = df['factor_count_L'] + df['factor_count_R'] + df['factor_count_W']\n",
    "df['return'] = df['factor_sum_W'] + df['factor_count_R']\n",
    "df['win'] = df['factor_sum_W'] - df['factor_count_L'] - df['factor_count_W']\n",
    "df['success_rate'] = df['win'] / df['count'] * 100\n",
    "df"
   ]
  },
  {
   "cell_type": "code",
   "execution_count": null,
   "metadata": {},
   "outputs": [],
   "source": []
  }
 ],
 "metadata": {
  "kernelspec": {
   "display_name": "Python 2",
   "language": "python",
   "name": "python2"
  },
  "language_info": {
   "codemirror_mode": {
    "name": "ipython",
    "version": 2
   },
   "file_extension": ".py",
   "mimetype": "text/x-python",
   "name": "python",
   "nbconvert_exporter": "python",
   "pygments_lexer": "ipython2",
   "version": "2.7.15+"
  }
 },
 "nbformat": 4,
 "nbformat_minor": 2
}
