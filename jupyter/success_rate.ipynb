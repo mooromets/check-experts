{
 "cells": [
  {
   "cell_type": "code",
   "execution_count": null,
   "metadata": {},
   "outputs": [],
   "source": [
    "import pandas as pd\n",
    "import matplotlib.pyplot as plt\n",
    "\n",
    "import sys\n",
    "sys.path.append('../src')\n",
    "import utils_explore as ue\n",
    "\n",
    "data = ue.all_bets()"
   ]
  },
  {
   "cell_type": "code",
   "execution_count": null,
   "metadata": {},
   "outputs": [],
   "source": [
    "df = ue.calc_win_rate(data, period_split='M', min_games_thres = 5)"
   ]
  },
  {
   "cell_type": "code",
   "execution_count": null,
   "metadata": {},
   "outputs": [],
   "source": [
    "#plot success rate of some best authors\n",
    "selected_authors = ['chaplygin'\n",
    "                    , 'falcao1984'\n",
    "                    , 'zhukov'\n",
    "                    , 'stavkaprognozsport'\n",
    "                    , 'teplofevralya']\n",
    "df_plot = df[df.author.isin(selected_authors)] \\\n",
    "    [['author', 'placed-date', 'success_rate']]\n",
    "df_plot = df_plot.pivot(index='placed-date', columns='author', values='success_rate')\n",
    "df_plot.plot()"
   ]
  },
  {
   "cell_type": "code",
   "execution_count": null,
   "metadata": {},
   "outputs": [],
   "source": [
    "#interpolate NANs\n",
    "df_plot.interpolate().plot()"
   ]
  }
 ],
 "metadata": {
  "kernelspec": {
   "display_name": "Python 2",
   "language": "python",
   "name": "python2"
  },
  "language_info": {
   "codemirror_mode": {
    "name": "ipython",
    "version": 2
   },
   "file_extension": ".py",
   "mimetype": "text/x-python",
   "name": "python",
   "nbconvert_exporter": "python",
   "pygments_lexer": "ipython2",
   "version": "2.7.15+"
  }
 },
 "nbformat": 4,
 "nbformat_minor": 2
}
