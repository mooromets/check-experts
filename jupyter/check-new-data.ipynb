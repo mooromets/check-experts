{
 "cells": [
  {
   "cell_type": "code",
   "execution_count": null,
   "metadata": {},
   "outputs": [],
   "source": [
    "import pandas as pd\n",
    "import glob\n",
    "from datetime import datetime\n",
    "out_dir = \"../data\" #output directory\n",
    "# read data from all files\n",
    "result = pd.concat(\n",
    "    [pd.read_csv(file, encoding=\"utf-8\", parse_dates=[1,2,5], dayfirst=True) for file in glob.glob(out_dir + \"/*.csv\")],\n",
    "    ignore_index=True)"
   ]
  },
  {
   "cell_type": "code",
   "execution_count": null,
   "metadata": {},
   "outputs": [],
   "source": [
    "# summary\n",
    "#result.groupby(by = ['author', 'crawled-date']).count()\n",
    "result.groupby(by = 'crawled-date').count()"
   ]
  },
  {
   "cell_type": "code",
   "execution_count": null,
   "metadata": {},
   "outputs": [],
   "source": [
    "# drop possibly new bets\n",
    "NEWBET_THRES = 5\n",
    "df = result[[d.days > NEWBET_THRES for d in result['crawled-date'] - result.date]]\n",
    "df.groupby(by = 'crawled-date').count()"
   ]
  },
  {
   "cell_type": "code",
   "execution_count": null,
   "metadata": {},
   "outputs": [],
   "source": [
    "# analyse newly crawled\n",
    "result[result['crawled-date'] == datetime(2019, 10, 31, 21, 53)] \\\n",
    "    .groupby(by = ['author', 'date'], as_index=False).count()\n",
    "\n",
    "\n",
    "result[(result['date'] == datetime.date(2019, 10, 19)) & (result['author'] == 'Arturio') ] \n"
   ]
  }
 ],
 "metadata": {
  "kernelspec": {
   "display_name": "Python 2",
   "language": "python",
   "name": "python2"
  },
  "language_info": {
   "codemirror_mode": {
    "name": "ipython",
    "version": 2
   },
   "file_extension": ".py",
   "mimetype": "text/x-python",
   "name": "python",
   "nbconvert_exporter": "python",
   "pygments_lexer": "ipython2",
   "version": "2.7.15+"
  }
 },
 "nbformat": 4,
 "nbformat_minor": 2
}
