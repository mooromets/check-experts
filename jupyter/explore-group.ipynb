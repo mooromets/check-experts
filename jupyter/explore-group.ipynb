{
 "cells": [
  {
   "cell_type": "code",
   "execution_count": null,
   "metadata": {},
   "outputs": [],
   "source": [
    "import pandas as pd\n",
    "import datetime\n",
    "import matplotlib.pyplot as plt\n",
    "\n",
    "import sys\n",
    "sys.path.append('../src')\n",
    "import utils_explore as ue\n",
    "\n",
    "data = ue.all_bets()"
   ]
  },
  {
   "cell_type": "code",
   "execution_count": null,
   "metadata": {},
   "outputs": [],
   "source": [
    "#     'ostapbender', 'nvaluev', 'karpovvyacheslav', 'naguchevroman'\n",
    "##    'chaplygin', 'kozhevnikov', 'netsenko', 'zhukov', 'falcao1984', 'andronov', 'teplofevralya', 'nobel'"
   ]
  },
  {
   "cell_type": "code",
   "execution_count": null,
   "metadata": {},
   "outputs": [],
   "source": [
    "#filter group\n",
    "df_tmp = data[data.author.isin(['netsenko', 'kozhevnikov', 'chaplygin'])]\n",
    "df_tmp = ue.calc_win_rate(df_tmp, period_split='M') #[['author','date', 'count', 'success_rate']]"
   ]
  },
  {
   "cell_type": "code",
   "execution_count": null,
   "metadata": {},
   "outputs": [],
   "source": [
    "df_plot = df_tmp.pivot_table(index=['placed-date'], columns='author', values=['count', 'success_rate'])\n",
    "df_plot.plot()\n",
    "df_plot.describe()"
   ]
  },
  {
   "cell_type": "code",
   "execution_count": null,
   "metadata": {},
   "outputs": [],
   "source": [
    "df_plot_19 = df_tmp[df_tmp['placed-date'] >= datetime.date(2019, 1, 1)]\n",
    "df_plot_19.plot()\n",
    "df_plot_19.describe()"
   ]
  }
 ],
 "metadata": {
  "kernelspec": {
   "display_name": "Python 2",
   "language": "python",
   "name": "python2"
  },
  "language_info": {
   "codemirror_mode": {
    "name": "ipython",
    "version": 2
   },
   "file_extension": ".py",
   "mimetype": "text/x-python",
   "name": "python",
   "nbconvert_exporter": "python",
   "pygments_lexer": "ipython2",
   "version": "2.7.15+"
  }
 },
 "nbformat": 4,
 "nbformat_minor": 2
}
